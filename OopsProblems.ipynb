{
 "cells": [
  {
   "cell_type": "markdown",
   "id": "da2880f7",
   "metadata": {},
   "source": [
    "## Oops Problems :"
   ]
  },
  {
   "cell_type": "markdown",
   "id": "c921986f",
   "metadata": {},
   "source": [
    "### Ques 1 : Bank Account Create a class representing a bank account with attributes like account number, account holder name, and balance. Implement methods to deposit and withdraw money from the account."
   ]
  },
  {
   "cell_type": "code",
   "execution_count": null,
   "id": "0289eddb",
   "metadata": {},
   "outputs": [],
   "source": []
  },
  {
   "cell_type": "markdown",
   "id": "dbc28b24",
   "metadata": {},
   "source": [
    "### Ques 2 : Employee Management Create a class representing an employee with attributes like employee ID, name, and salary. Implement methods to calculate the yearly bonus and display employee details."
   ]
  },
  {
   "cell_type": "code",
   "execution_count": null,
   "id": "0e4af923",
   "metadata": {},
   "outputs": [],
   "source": []
  },
  {
   "cell_type": "markdown",
   "id": "bc3d7547",
   "metadata": {},
   "source": [
    "### Ques 3 : Vehicle Rental Create a class representing a vehicle rental system. Implement methods to rent a vehicle, return a vehicle, and display available vehicles. "
   ]
  },
  {
   "cell_type": "code",
   "execution_count": null,
   "id": "95c396ce",
   "metadata": {},
   "outputs": [],
   "source": []
  },
  {
   "cell_type": "markdown",
   "id": "612f1dbe",
   "metadata": {},
   "source": [
    "### Ques 4 : Library Catalog Create classes representing a library and a book. Implement methods to add books to the library, borrow books, and display available books."
   ]
  },
  {
   "cell_type": "markdown",
   "id": "bf366635",
   "metadata": {},
   "source": [
    "### Ques 5 : Product Inventory Create classes representing a product and an inventory system. Implement methods to add products to the inventory, update product quantity, and display available products."
   ]
  },
  {
   "cell_type": "code",
   "execution_count": null,
   "id": "f2a7a5a7",
   "metadata": {},
   "outputs": [],
   "source": []
  },
  {
   "cell_type": "markdown",
   "id": "dae0b85c",
   "metadata": {},
   "source": [
    "### Ques 6 : Shape Calculation Create a class representing a shape with attributes like length, width, and height. Implement methods to calculate the area and perimeter of the shape."
   ]
  },
  {
   "cell_type": "code",
   "execution_count": null,
   "id": "f1c111c6",
   "metadata": {},
   "outputs": [],
   "source": []
  },
  {
   "cell_type": "markdown",
   "id": "0981cd46",
   "metadata": {},
   "source": [
    "### Ques 7 : Student Management Create a class representing a student with attributes like student ID, name, and grades. Implement methods to calculate the average grade and display student details."
   ]
  },
  {
   "cell_type": "markdown",
   "id": "bcf7c74f",
   "metadata": {},
   "source": [
    "### Ques 8 : Email Management Create a class representing an email with attributes like sender, recipient, and subject. Implement methods to send an email and display email details."
   ]
  },
  {
   "cell_type": "code",
   "execution_count": null,
   "id": "2a44393c",
   "metadata": {},
   "outputs": [],
   "source": []
  },
  {
   "cell_type": "markdown",
   "id": "9b936e23",
   "metadata": {},
   "source": [
    "### Ques 9 : Social Media Profile Create a class representing a social media profile with attributes like username and posts. Implement methods to add posts, display posts, and search for posts by keyword."
   ]
  },
  {
   "cell_type": "code",
   "execution_count": null,
   "id": "1dfa26a8",
   "metadata": {},
   "outputs": [],
   "source": []
  },
  {
   "cell_type": "markdown",
   "id": "f28bcde6",
   "metadata": {},
   "source": [
    "### Ques 10 : ToDo List Create a class representing a ToDo list with attributes like tasks and due dates. Implement methods to add tasks, mark tasks as completed, and display pending tasks."
   ]
  },
  {
   "cell_type": "code",
   "execution_count": null,
   "id": "6830469b",
   "metadata": {},
   "outputs": [],
   "source": []
  },
  {
   "cell_type": "code",
   "execution_count": null,
   "id": "15e2ffa5",
   "metadata": {},
   "outputs": [],
   "source": []
  },
  {
   "cell_type": "code",
   "execution_count": null,
   "id": "6b56cdf7",
   "metadata": {},
   "outputs": [],
   "source": []
  },
  {
   "cell_type": "markdown",
   "id": "7970cbf2",
   "metadata": {},
   "source": []
  },
  {
   "cell_type": "markdown",
   "id": "61d4de83",
   "metadata": {},
   "source": []
  },
  {
   "cell_type": "markdown",
   "id": "eb10f169",
   "metadata": {},
   "source": []
  }
 ],
 "metadata": {
  "kernelspec": {
   "display_name": "Python 3 (ipykernel)",
   "language": "python",
   "name": "python3"
  },
  "language_info": {
   "codemirror_mode": {
    "name": "ipython",
    "version": 3
   },
   "file_extension": ".py",
   "mimetype": "text/x-python",
   "name": "python",
   "nbconvert_exporter": "python",
   "pygments_lexer": "ipython3",
   "version": "3.9.12"
  }
 },
 "nbformat": 4,
 "nbformat_minor": 5
}
