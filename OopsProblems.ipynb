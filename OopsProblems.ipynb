{
 "cells": [
  {
   "cell_type": "markdown",
   "id": "e7d10d24",
   "metadata": {},
   "source": [
    "## Oops Problems :"
   ]
  },
  {
   "cell_type": "markdown",
   "id": "19a71377",
   "metadata": {},
   "source": [
    "### Ques 1 : Bank Account Create a class representing a bank account with attributes like account number, account holder name, and balance. Implement methods to deposit and withdraw money from the account."
   ]
  },
  {
   "cell_type": "markdown",
   "id": "48533ed2",
   "metadata": {},
   "source": [
    "#### Ans 1) \n",
    "\n",
    "#### Steps:\n",
    "- Create a class Bank_Account.\n",
    "- Initialize 3 attributes mentioned in question.\n",
    "- Now define two methods/functions : \n",
    "- 1) deposit_money : to deposit the amount.\n",
    "- - Take the amount to deposit from user.\n",
    "- - Update the bank balanace.\n",
    "- - Display the updated balance.\n",
    "- 2) withdraw_money : to withdraw the amount.\n",
    "- - Take the amount to be withdraw from user.\n",
    "- - Update the bank balanace.\n",
    "- - Display the updated balance."
   ]
  },
  {
   "cell_type": "code",
   "execution_count": 22,
   "id": "d94ac8bc",
   "metadata": {},
   "outputs": [],
   "source": [
    "class Bank_Account :\n",
    "    # initializing attributes\n",
    "    account_number = 0\n",
    "    account_holder_name = ''\n",
    "    balance = 0\n",
    "    \n",
    "    # method to deposit money\n",
    "    def deposit_money(self):\n",
    "        # take amount from user\n",
    "        self.deposit_amount = int(input(\"Enter the deposit amount :\"))\n",
    "        \n",
    "        # now update the balance of account\n",
    "        self.balance = self.balance + self.deposit_amount\n",
    "        \n",
    "        # display the total amount\n",
    "        print(\"Current balance of account : \",self.balance)\n",
    "        \n",
    "    \n",
    "    # method to withdraw money\n",
    "    def withdraw_money(self):\n",
    "        \n",
    "        self.withdraw_amount = int(input(\"Enter the withdrawl amount : \"))\n",
    "        \n",
    "        if self.withdraw_amount > self.balance :\n",
    "            print(\"You don't have enough bank balance.\")\n",
    "            \n",
    "        else:\n",
    "            self.balance = self.balance - self.withdraw_amount\n",
    "            \n",
    "            # display the updated balance\n",
    "            print(\"Current balance of account : \",self.balance)\n",
    "    "
   ]
  },
  {
   "cell_type": "code",
   "execution_count": 23,
   "id": "06fde91b",
   "metadata": {},
   "outputs": [],
   "source": [
    "# lets create an object \n",
    "noorain = Bank_Account()\n",
    "\n",
    "# enter your account details\n",
    "noorain.account_number = 12345\n",
    "noorain.account_holder_name = \"Noorain Raza\"\n",
    "noorain.balance = 50000"
   ]
  },
  {
   "cell_type": "code",
   "execution_count": 24,
   "id": "73ee2862",
   "metadata": {},
   "outputs": [
    {
     "name": "stdout",
     "output_type": "stream",
     "text": [
      "Enter the deposit amount :5000\n",
      "Current balance of account :  55000\n"
     ]
    }
   ],
   "source": [
    "# lets deposit some amount of money\n",
    "noorain.deposit_money()"
   ]
  },
  {
   "cell_type": "code",
   "execution_count": 25,
   "id": "1301cbdf",
   "metadata": {},
   "outputs": [
    {
     "name": "stdout",
     "output_type": "stream",
     "text": [
      "Enter the withdrawl amount : 10000\n",
      "Current balance of account :  45000\n"
     ]
    }
   ],
   "source": [
    "# lets withdraw some aount of money\n",
    "noorain.withdraw_money()"
   ]
  },
  {
   "cell_type": "markdown",
   "id": "a0c57b38",
   "metadata": {},
   "source": [
    "### Ques 2 : Employee Management Create a class representing an employee with attributes like employee ID, name, and salary. Implement methods to calculate the yearly bonus and display employee details."
   ]
  },
  {
   "cell_type": "markdown",
   "id": "fd572fb6",
   "metadata": {},
   "source": [
    "#### Ans 2) \n",
    "\n",
    "#### Steps:\n",
    "\n",
    "- Create a class employee.\n",
    "- Initialize 3 attributes mentioned in question.\n",
    "- Now define two methods : \n",
    "\n",
    "- 1) yearly_bonus : to calculate the yearly bonus of employee based on years.\n",
    "- - Lets consider the criteria for yearly bonus based on years :\n",
    "- - if employee has served the organization for more than 3 years, give a bonus of 3000Rs to the employee.\n",
    "- - Take the current and joining year, find the diff, and give the bonus accordingly.\n",
    "\n",
    "- 2) employee_details : to display the details of employee.\n",
    "- - Print all the details of the employee."
   ]
  },
  {
   "cell_type": "code",
   "execution_count": 31,
   "id": "d36d69af",
   "metadata": {},
   "outputs": [],
   "source": [
    "class employee :\n",
    "    \n",
    "    # initialise attributes\n",
    "    def __init__(self,empId,empName,empSalary):\n",
    "        self.employee_id = empId\n",
    "        self.employee_name = empName\n",
    "        self.employee_salary = empSalary\n",
    "        \n",
    "    # define a method for yearly bonus\n",
    "    def yearl_bonus(self, currYr, joiningYr):\n",
    "        self.current_year = currYr\n",
    "        self.year_of_joining = joiningYr\n",
    "        \n",
    "        self.bonus = 3000\n",
    "        if (self.current_year - self.year_of_joining) > 3 :\n",
    "            print(\"Your bonus of the year is : Rs.\",self.bonus )\n",
    "            \n",
    "            # update the salary\n",
    "            self.employee_salary = self.employee_salary + self.bonus\n",
    "        \n",
    "    \n",
    "    # define a method for employee details\n",
    "    def employee_details(self):\n",
    "        print(\"Following are the Employee details : \\n\")\n",
    "        print(f\"Employee Id : {self.employee_id},\\nEmployee Name : {self.employee_name},\\nEmployee Year Bonus : {self.bonus},\\nEmployee Salary : {self.employee_salary}\")"
   ]
  },
  {
   "cell_type": "code",
   "execution_count": 32,
   "id": "61232029",
   "metadata": {},
   "outputs": [],
   "source": [
    "# create an object for employee and pass values\n",
    "emp1 = employee(123,\"Noorain\",50000)"
   ]
  },
  {
   "cell_type": "code",
   "execution_count": 33,
   "id": "8ef73bbb",
   "metadata": {},
   "outputs": [
    {
     "name": "stdout",
     "output_type": "stream",
     "text": [
      "Your bonus of the year is : Rs. 3000\n"
     ]
    }
   ],
   "source": [
    "# find the yearly bonus by entering the years\n",
    "emp1.yearl_bonus(2024,2020)"
   ]
  },
  {
   "cell_type": "code",
   "execution_count": 34,
   "id": "c1a074f7",
   "metadata": {},
   "outputs": [
    {
     "name": "stdout",
     "output_type": "stream",
     "text": [
      "Following are the Employee details : \n",
      "\n",
      "Employee Id : 123,\n",
      "Employee Name : Noorain,\n",
      "Employee Year Bonus : 3000,\n",
      "Employee Salary : 53000\n"
     ]
    }
   ],
   "source": [
    "# lets check the employee details\n",
    "emp1.employee_details()"
   ]
  },
  {
   "cell_type": "code",
   "execution_count": null,
   "id": "d0503abe",
   "metadata": {},
   "outputs": [],
   "source": []
  },
  {
   "cell_type": "markdown",
   "id": "29342b62",
   "metadata": {},
   "source": [
    "### Ques 3 : Vehicle Rental Create a class representing a vehicle rental system. Implement methods to rent a vehicle, return a vehicle, and display available vehicles. "
   ]
  },
  {
   "cell_type": "markdown",
   "id": "114fd1a2",
   "metadata": {},
   "source": [
    "#### Ans 3) \n",
    "\n",
    "#### Steps:\n",
    "\n",
    "- Create a class vehicle_rental.\n",
    "- Initialize a list of available vehicles\n",
    "- Now define three methods : \n",
    "\n",
    "- 1) available_vehicles : to display the list of available vehicles.\n",
    "\n",
    "- 2) rent_vehicles : to select a vehicle from available list of vehicles.\n",
    "- - Display the list of vehicles with order number.\n",
    "- - Take a number respected to the vehicle from user.\n",
    "\n",
    "- 3) return_vehicles : to return the selected vehicle.\n",
    "- - Dispaly the selected vehicle.\n",
    "- - Update the available list of vehicles."
   ]
  },
  {
   "cell_type": "code",
   "execution_count": 64,
   "id": "5de63938",
   "metadata": {},
   "outputs": [],
   "source": [
    "class vehicle_Rental :\n",
    "    \n",
    "    vehicle_list = ['Apache','Passion Pro','ZMR','R15','Splender']\n",
    "    \n",
    "    # define a method to display available vehicles\n",
    "    def available_vehicles(self):\n",
    "        print(f\"Following is the list of available vehicles : \\n{self.vehicle_list}\")\n",
    "    \n",
    "    \n",
    "    # define a method to rent a vehicle\n",
    "    def rent_vehicle(self):\n",
    "        print(f\"Following is the list of available vehicles, to select a vehicle enter the respected number :\")\n",
    "        for number, vehicle in enumerate(self.vehicle_list,1):\n",
    "            print(f\"{number}) : {vehicle}\")\n",
    "            \n",
    "        self.vehicle_num = int(input(\"Enter a number to choose the vehicle : \"))\n",
    "        \n",
    "    \n",
    "    \n",
    "    # define a method to return a vehicle\n",
    "    def return_vehicle(self):\n",
    "        print(\"You choosed the vehicle : \",self.vehicle_list[self.vehicle_num-1])\n",
    "        # update the list of vehicles\n",
    "        self.vehicle_list.pop(self.vehicle_num-1)\n",
    "    "
   ]
  },
  {
   "cell_type": "code",
   "execution_count": 65,
   "id": "398e6189",
   "metadata": {},
   "outputs": [],
   "source": [
    "vehicle1 = vehicle_Rental()"
   ]
  },
  {
   "cell_type": "code",
   "execution_count": 66,
   "id": "3cf664d6",
   "metadata": {},
   "outputs": [
    {
     "name": "stdout",
     "output_type": "stream",
     "text": [
      "Following is the list of available vehicles : \n",
      "['Apache', 'Passion Pro', 'ZMR', 'R15', 'Splender']\n"
     ]
    }
   ],
   "source": [
    "# lets see the available vehicles\n",
    "vehicle1.available_vehicles()"
   ]
  },
  {
   "cell_type": "code",
   "execution_count": 67,
   "id": "1c2ad507",
   "metadata": {},
   "outputs": [
    {
     "name": "stdout",
     "output_type": "stream",
     "text": [
      "Following is the list of available vehicles, to select a vehicle enter the respected number :\n",
      "1) : Apache\n",
      "2) : Passion Pro\n",
      "3) : ZMR\n",
      "4) : R15\n",
      "5) : Splender\n",
      "Enter a number to choose the vehicle : 4\n"
     ]
    }
   ],
   "source": [
    "# lets call the rent_vehicle method to take vehicle on rent\n",
    "vehicle1.rent_vehicle()"
   ]
  },
  {
   "cell_type": "code",
   "execution_count": 68,
   "id": "5b8463c1",
   "metadata": {},
   "outputs": [
    {
     "name": "stdout",
     "output_type": "stream",
     "text": [
      "You choosed the vehicle :  R15\n"
     ]
    }
   ],
   "source": [
    "# call the return vehicle method to get the vehicle\n",
    "vehicle1.return_vehicle()"
   ]
  },
  {
   "cell_type": "code",
   "execution_count": 69,
   "id": "ee66417f",
   "metadata": {},
   "outputs": [
    {
     "name": "stdout",
     "output_type": "stream",
     "text": [
      "Following is the list of available vehicles : \n",
      "['Apache', 'Passion Pro', 'ZMR', 'Splender']\n"
     ]
    }
   ],
   "source": [
    "# now lets see the updated available vehicles list\n",
    "vehicle1.available_vehicles()"
   ]
  },
  {
   "cell_type": "markdown",
   "id": "5df30c62",
   "metadata": {},
   "source": [
    "### Ques 4 : Library Catalog Create classes representing a library and a book. Implement methods to add books to the library, borrow books, and display available books."
   ]
  },
  {
   "cell_type": "markdown",
   "id": "192ac6c6",
   "metadata": {},
   "source": [
    "#### Ans 4) \n",
    "\n",
    "#### Steps:\n",
    "\n",
    "- Create a class vehicle_rental.\n",
    "- Initialize a list of available vehicles\n",
    "- Now define three methods : \n",
    "\n",
    "- 1) available_vehicles : to display the list of available vehicles.\n",
    "\n",
    "- 2) rent_vehicles : to select a vehicle from available list of vehicles.\n",
    "- - Display the list of vehicles with order number.\n",
    "- - Take a number respected to the vehicle from user.\n",
    "\n",
    "- 3) return_vehicles : to return the selected vehicle.\n",
    "- - Dispaly the selected vehicle.\n",
    "- - Update the available list of vehicles."
   ]
  },
  {
   "cell_type": "code",
   "execution_count": null,
   "id": "53148a99",
   "metadata": {},
   "outputs": [],
   "source": [
    "class library:\n",
    "    pass\n",
    "class book:\n",
    "    pass"
   ]
  },
  {
   "cell_type": "markdown",
   "id": "09cdd91a",
   "metadata": {},
   "source": [
    "### Ques 5 : Product Inventory Create classes representing a product and an inventory system. Implement methods to add products to the inventory, update product quantity, and display available products."
   ]
  },
  {
   "cell_type": "code",
   "execution_count": null,
   "id": "066c730d",
   "metadata": {},
   "outputs": [],
   "source": []
  },
  {
   "cell_type": "markdown",
   "id": "cb9c2c68",
   "metadata": {},
   "source": [
    "### Ques 6 : Shape Calculation Create a class representing a shape with attributes like length, width, and height. Implement methods to calculate the area and perimeter of the shape."
   ]
  },
  {
   "cell_type": "markdown",
   "id": "c64727c4",
   "metadata": {},
   "source": [
    "#### Ans 6) \n",
    "\n",
    "#### Steps:\n",
    "\n",
    "- Create a class shape.\n",
    "- Initialize attributes of shape using __init__() function.\n",
    "- Now define two methods : \n",
    "\n",
    "- 1) area : to calculate the area of the shape.\n",
    "- - First of all identify the shape.\n",
    "- - If all sides are equal then shape is cube.\n",
    "- - If side are different then shape is cuboid.\n",
    "- 2) perimeter : to calculate the perimeter of the shape.\n"
   ]
  },
  {
   "cell_type": "code",
   "execution_count": 70,
   "id": "26d8150c",
   "metadata": {},
   "outputs": [],
   "source": [
    "class shape:\n",
    "    \n",
    "    def __init__(self, length , width, height):\n",
    "        self.length = length\n",
    "        self.width = width\n",
    "        self.height = height\n",
    "        \n",
    "    def area(self):\n",
    "        if self.length == self.width == self.height :\n",
    "            self.area = self.length**3\n",
    "            self.shape = 'cube'\n",
    "            print(\"Volume of the shape is : \",self.area)\n",
    "            \n",
    "        elif self.length == self.width :\n",
    "            self.area = (self.length * self.width * self.height)\n",
    "            self.shape = 'cuboid'\n",
    "            print(\"Volume of the shape is : \",self.area)\n",
    "            \n",
    "        else:\n",
    "            print(\"Enter valid length,width and height.\")\n",
    "        \n",
    "    \n",
    "    def perimeter(self):\n",
    "        if self.shape == 'cube':\n",
    "            self.perimeter = 12*self.length\n",
    "            print(\"Perimeter of the shape is : \",self.perimeter)\n",
    "\n",
    "        \n",
    "        "
   ]
  },
  {
   "cell_type": "code",
   "execution_count": 71,
   "id": "ae7a83c6",
   "metadata": {},
   "outputs": [
    {
     "name": "stdout",
     "output_type": "stream",
     "text": [
      "Volume of the shape is :  125\n",
      "Perimeter of the shape is :  60\n"
     ]
    }
   ],
   "source": [
    "cube = shape(5,5,5)\n",
    "cube.area()\n",
    "cube.perimeter()"
   ]
  },
  {
   "cell_type": "markdown",
   "id": "9029916a",
   "metadata": {},
   "source": [
    "### Ques 7 : Student Management Create a class representing a student with attributes like student ID, name, and grades. Implement methods to calculate the average grade and display student details."
   ]
  },
  {
   "cell_type": "markdown",
   "id": "70a84ff0",
   "metadata": {},
   "source": [
    "#### Ans 7) \n",
    "\n",
    "#### Steps:\n",
    "\n",
    "- Create a class student.\n",
    "- Initialize attributes of student using __init__() function.\n",
    "- Now define two methods : \n",
    "\n",
    "- 1) avg_grades : to calculate the avg of the grades.\n",
    "- 2) student_details : to Display the student details.\n"
   ]
  },
  {
   "cell_type": "code",
   "execution_count": 75,
   "id": "16157bb0",
   "metadata": {},
   "outputs": [],
   "source": [
    "class student :\n",
    "    \n",
    "    def __init__(self, studId, stuName, stuGrades):\n",
    "        self.student_id = studId\n",
    "        self.student_name = stuName\n",
    "        self.student_grades = stuGrades\n",
    "        \n",
    "        \n",
    "    def avg_grades(self):\n",
    "        self.avg = sum(self.student_grades)/len(self.student_grades)\n",
    "        print(\"Student Average grades : \",self.avg)\n",
    "        \n",
    "    def student_details(self):\n",
    "        print(\"\\nFollowing are the student details : \")\n",
    "        print(f\"Student ID : {self.student_id}\\nStudent Name : {self.student_name}\\nStudent Grades : {self.student_grades}\")\n",
    "        "
   ]
  },
  {
   "cell_type": "code",
   "execution_count": 76,
   "id": "6ff02d70",
   "metadata": {},
   "outputs": [
    {
     "name": "stdout",
     "output_type": "stream",
     "text": [
      "Student Average grades :  85.0\n",
      "\n",
      "Following are the student details : \n",
      "Student ID : 12\n",
      "Student Name : Rohan\n",
      "Student Grades : [80, 85, 90]\n"
     ]
    }
   ],
   "source": [
    "# create an object for class and pass the student details.\n",
    "student1 = student(12, \"Rohan\", [80,85,90])\n",
    "\n",
    "# calculate the avg grades\n",
    "student1.avg_grades()\n",
    "\n",
    "# Display the student details\n",
    "student1.student_details()"
   ]
  },
  {
   "cell_type": "markdown",
   "id": "01255d9d",
   "metadata": {},
   "source": [
    "### Ques 8 : Email Management Create a class representing an email with attributes like sender, recipient, and subject. Implement methods to send an email and display email details."
   ]
  },
  {
   "cell_type": "markdown",
   "id": "6ded3ac7",
   "metadata": {},
   "source": [
    "#### Ans 8) \n",
    "\n",
    "#### Steps:\n",
    "\n",
    "- Create a class email.\n",
    "- Initialize attributes of email using __init__() function.\n",
    "- Now define two methods : \n",
    "\n",
    "- 1) send_email : to send the email.\n",
    "- 2) email_details : to Display the email details.\n"
   ]
  },
  {
   "cell_type": "code",
   "execution_count": null,
   "id": "69119432",
   "metadata": {},
   "outputs": [],
   "source": [
    "class email :\n",
    "    \n",
    "    def __init__(self, sender, recipient , subject):\n",
    "        self.sender = sender\n",
    "        self.recipient = recipient\n",
    "        self.subject = subject\n",
    "        \n",
    "    def send_email(self):\n",
    "        pass\n",
    "    \n",
    "    def email_details(self):\n",
    "        print(\"Following are the details of email : \")\n",
    "        print(f\"Sender : {self.sender}, \\nRecipient : {self.recipient}, \\nSubject : {self.subject}\")"
   ]
  },
  {
   "cell_type": "markdown",
   "id": "71d4e851",
   "metadata": {},
   "source": [
    "### Ques 9 : Social Media Profile Create a class representing a social media profile with attributes like username and posts. Implement methods to add posts, display posts, and search for posts by keyword."
   ]
  },
  {
   "cell_type": "code",
   "execution_count": null,
   "id": "ca0dc030",
   "metadata": {},
   "outputs": [],
   "source": []
  },
  {
   "cell_type": "markdown",
   "id": "373763ee",
   "metadata": {},
   "source": [
    "### Ques 10 : ToDo List Create a class representing a ToDo list with attributes like tasks and due dates. Implement methods to add tasks, mark tasks as completed, and display pending tasks."
   ]
  },
  {
   "cell_type": "code",
   "execution_count": null,
   "id": "642174be",
   "metadata": {},
   "outputs": [],
   "source": []
  },
  {
   "cell_type": "code",
   "execution_count": null,
   "id": "a0e758f4",
   "metadata": {},
   "outputs": [],
   "source": []
  },
  {
   "cell_type": "code",
   "execution_count": null,
   "id": "8c4031c9",
   "metadata": {},
   "outputs": [],
   "source": []
  },
  {
   "cell_type": "markdown",
   "id": "1c3b6902",
   "metadata": {},
   "source": []
  },
  {
   "cell_type": "markdown",
   "id": "e017f73c",
   "metadata": {},
   "source": []
  },
  {
   "cell_type": "markdown",
   "id": "d60ab7b9",
   "metadata": {},
   "source": []
  }
 ],
 "metadata": {
  "kernelspec": {
   "display_name": "Python 3 (ipykernel)",
   "language": "python",
   "name": "python3"
  },
  "language_info": {
   "codemirror_mode": {
    "name": "ipython",
    "version": 3
   },
   "file_extension": ".py",
   "mimetype": "text/x-python",
   "name": "python",
   "nbconvert_exporter": "python",
   "pygments_lexer": "ipython3",
   "version": "3.9.12"
  }
 },
 "nbformat": 4,
 "nbformat_minor": 5
}
