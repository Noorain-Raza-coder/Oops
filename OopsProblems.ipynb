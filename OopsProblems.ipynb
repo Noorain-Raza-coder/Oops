{
 "cells": [
  {
   "cell_type": "markdown",
   "id": "3d3be408",
   "metadata": {},
   "source": [
    "## Oops Problems :"
   ]
  },
  {
   "cell_type": "markdown",
   "id": "fe2441fb",
   "metadata": {},
   "source": [
    "### Ques 1 : Bank Account Create a class representing a bank account with attributes like account number, account holder name, and balance. Implement methods to deposit and withdraw money from the account."
   ]
  },
  {
   "cell_type": "markdown",
   "id": "4a605d0b",
   "metadata": {},
   "source": [
    "#### Ans 1) \n",
    "\n",
    "#### Steps:\n",
    "- Create a class Bank_Account.\n",
    "- Initialize 3 attributes mentioned in question.\n",
    "- Now define two methods/functions : \n",
    "- 1) deposit_money : to deposit the amount.\n",
    "- - Take the amount to deposit from user.\n",
    "- - Update the bank balanace.\n",
    "- - Display the updated balance.\n",
    "- 2) withdraw_money : to withdraw the amount.\n",
    "- - Take the amount to be withdraw from user.\n",
    "- - Update the bank balanace.\n",
    "- - Display the updated balance."
   ]
  },
  {
   "cell_type": "code",
   "execution_count": 22,
   "id": "47a19dd2",
   "metadata": {},
   "outputs": [],
   "source": [
    "class Bank_Account :\n",
    "    # initializing attributes\n",
    "    account_number = 0\n",
    "    account_holder_name = ''\n",
    "    balance = 0\n",
    "    \n",
    "    # method to deposit money\n",
    "    def deposit_money(self):\n",
    "        # take amount from user\n",
    "        self.deposit_amount = int(input(\"Enter the deposit amount :\"))\n",
    "        \n",
    "        # now update the balance of account\n",
    "        self.balance = self.balance + self.deposit_amount\n",
    "        \n",
    "        # display the total amount\n",
    "        print(\"Current balance of account : \",self.balance)\n",
    "        \n",
    "    \n",
    "    # method to withdraw money\n",
    "    def withdraw_money(self):\n",
    "        \n",
    "        self.withdraw_amount = int(input(\"Enter the withdrawl amount : \"))\n",
    "        \n",
    "        if self.withdraw_amount > self.balance :\n",
    "            print(\"You don't have enough bank balance.\")\n",
    "            \n",
    "        else:\n",
    "            self.balance = self.balance - self.withdraw_amount\n",
    "            \n",
    "            # display the updated balance\n",
    "            print(\"Current balance of account : \",self.balance)\n",
    "    "
   ]
  },
  {
   "cell_type": "code",
   "execution_count": 23,
   "id": "90b1ca21",
   "metadata": {},
   "outputs": [],
   "source": [
    "# lets create an object \n",
    "noorain = Bank_Account()\n",
    "\n",
    "# enter your account details\n",
    "noorain.account_number = 12345\n",
    "noorain.account_holder_name = \"Noorain Raza\"\n",
    "noorain.balance = 50000"
   ]
  },
  {
   "cell_type": "code",
   "execution_count": 24,
   "id": "5c0198cf",
   "metadata": {},
   "outputs": [
    {
     "name": "stdout",
     "output_type": "stream",
     "text": [
      "Enter the deposit amount :5000\n",
      "Current balance of account :  55000\n"
     ]
    }
   ],
   "source": [
    "# lets deposit some amount of money\n",
    "noorain.deposit_money()"
   ]
  },
  {
   "cell_type": "code",
   "execution_count": 25,
   "id": "5137131f",
   "metadata": {},
   "outputs": [
    {
     "name": "stdout",
     "output_type": "stream",
     "text": [
      "Enter the withdrawl amount : 10000\n",
      "Current balance of account :  45000\n"
     ]
    }
   ],
   "source": [
    "# lets withdraw some aount of money\n",
    "noorain.withdraw_money()"
   ]
  },
  {
   "cell_type": "markdown",
   "id": "1b8d282e",
   "metadata": {},
   "source": [
    "### Ques 2 : Employee Management Create a class representing an employee with attributes like employee ID, name, and salary. Implement methods to calculate the yearly bonus and display employee details."
   ]
  },
  {
   "cell_type": "code",
   "execution_count": null,
   "id": "54b3e8c3",
   "metadata": {},
   "outputs": [],
   "source": []
  },
  {
   "cell_type": "markdown",
   "id": "748aa178",
   "metadata": {},
   "source": [
    "### Ques 3 : Vehicle Rental Create a class representing a vehicle rental system. Implement methods to rent a vehicle, return a vehicle, and display available vehicles. "
   ]
  },
  {
   "cell_type": "code",
   "execution_count": null,
   "id": "5a13ac67",
   "metadata": {},
   "outputs": [],
   "source": []
  },
  {
   "cell_type": "markdown",
   "id": "668990b2",
   "metadata": {},
   "source": [
    "### Ques 4 : Library Catalog Create classes representing a library and a book. Implement methods to add books to the library, borrow books, and display available books."
   ]
  },
  {
   "cell_type": "markdown",
   "id": "2707574b",
   "metadata": {},
   "source": [
    "### Ques 5 : Product Inventory Create classes representing a product and an inventory system. Implement methods to add products to the inventory, update product quantity, and display available products."
   ]
  },
  {
   "cell_type": "code",
   "execution_count": null,
   "id": "d01a5e25",
   "metadata": {},
   "outputs": [],
   "source": []
  },
  {
   "cell_type": "markdown",
   "id": "632cbfe5",
   "metadata": {},
   "source": [
    "### Ques 6 : Shape Calculation Create a class representing a shape with attributes like length, width, and height. Implement methods to calculate the area and perimeter of the shape."
   ]
  },
  {
   "cell_type": "code",
   "execution_count": null,
   "id": "2eaae46b",
   "metadata": {},
   "outputs": [],
   "source": []
  },
  {
   "cell_type": "markdown",
   "id": "999d1756",
   "metadata": {},
   "source": [
    "### Ques 7 : Student Management Create a class representing a student with attributes like student ID, name, and grades. Implement methods to calculate the average grade and display student details."
   ]
  },
  {
   "cell_type": "markdown",
   "id": "7b9f8f99",
   "metadata": {},
   "source": [
    "### Ques 8 : Email Management Create a class representing an email with attributes like sender, recipient, and subject. Implement methods to send an email and display email details."
   ]
  },
  {
   "cell_type": "code",
   "execution_count": null,
   "id": "1b363e81",
   "metadata": {},
   "outputs": [],
   "source": []
  },
  {
   "cell_type": "markdown",
   "id": "efae8d97",
   "metadata": {},
   "source": [
    "### Ques 9 : Social Media Profile Create a class representing a social media profile with attributes like username and posts. Implement methods to add posts, display posts, and search for posts by keyword."
   ]
  },
  {
   "cell_type": "code",
   "execution_count": null,
   "id": "6ba6cfb4",
   "metadata": {},
   "outputs": [],
   "source": []
  },
  {
   "cell_type": "markdown",
   "id": "598026a8",
   "metadata": {},
   "source": [
    "### Ques 10 : ToDo List Create a class representing a ToDo list with attributes like tasks and due dates. Implement methods to add tasks, mark tasks as completed, and display pending tasks."
   ]
  },
  {
   "cell_type": "code",
   "execution_count": null,
   "id": "41fd4078",
   "metadata": {},
   "outputs": [],
   "source": []
  },
  {
   "cell_type": "code",
   "execution_count": null,
   "id": "baa64506",
   "metadata": {},
   "outputs": [],
   "source": []
  },
  {
   "cell_type": "code",
   "execution_count": null,
   "id": "5cdee722",
   "metadata": {},
   "outputs": [],
   "source": []
  },
  {
   "cell_type": "markdown",
   "id": "a50ff905",
   "metadata": {},
   "source": []
  },
  {
   "cell_type": "markdown",
   "id": "562e5dbb",
   "metadata": {},
   "source": []
  },
  {
   "cell_type": "markdown",
   "id": "d9519a2f",
   "metadata": {},
   "source": []
  }
 ],
 "metadata": {
  "kernelspec": {
   "display_name": "Python 3 (ipykernel)",
   "language": "python",
   "name": "python3"
  },
  "language_info": {
   "codemirror_mode": {
    "name": "ipython",
    "version": 3
   },
   "file_extension": ".py",
   "mimetype": "text/x-python",
   "name": "python",
   "nbconvert_exporter": "python",
   "pygments_lexer": "ipython3",
   "version": "3.9.12"
  }
 },
 "nbformat": 4,
 "nbformat_minor": 5
}
