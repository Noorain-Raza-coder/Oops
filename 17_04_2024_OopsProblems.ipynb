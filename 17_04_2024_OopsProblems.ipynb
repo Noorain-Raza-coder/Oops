{
 "cells": [
  {
   "cell_type": "markdown",
   "id": "2156bbeb",
   "metadata": {},
   "source": [
    "## Oops Problems :"
   ]
  },
  {
   "cell_type": "markdown",
   "id": "02fff3b9",
   "metadata": {},
   "source": [
    "### Ques 1 : Bank Account Create a class representing a bank account with attributes like account number, account holder name, and balance. Implement methods to deposit and withdraw money from the account."
   ]
  },
  {
   "cell_type": "markdown",
   "id": "1415b7f1",
   "metadata": {},
   "source": [
    "#### Ans 1) \n",
    "\n",
    "#### Steps:\n",
    "- Create a class Bank_Account.\n",
    "- Initialize 3 attributes mentioned in question.\n",
    "- Now define two methods/functions : \n",
    "- 1) deposit_money : to deposit the amount.\n",
    "- - Take the amount to deposit from user.\n",
    "- - Update the bank balanace.\n",
    "- - Display the updated balance.\n",
    "- 2) withdraw_money : to withdraw the amount.\n",
    "- - Take the amount to be withdraw from user.\n",
    "- - Update the bank balanace.\n",
    "- - Display the updated balance."
   ]
  },
  {
   "cell_type": "code",
   "execution_count": 22,
   "id": "b1899a3a",
   "metadata": {},
   "outputs": [],
   "source": [
    "class Bank_Account :\n",
    "    # initializing attributes\n",
    "    account_number = 0\n",
    "    account_holder_name = ''\n",
    "    balance = 0\n",
    "    \n",
    "    # method to deposit money\n",
    "    def deposit_money(self):\n",
    "        # take amount from user\n",
    "        self.deposit_amount = int(input(\"Enter the deposit amount :\"))\n",
    "        \n",
    "        # now update the balance of account\n",
    "        self.balance = self.balance + self.deposit_amount\n",
    "        \n",
    "        # display the total amount\n",
    "        print(\"Current balance of account : \",self.balance)\n",
    "        \n",
    "    \n",
    "    # method to withdraw money\n",
    "    def withdraw_money(self):\n",
    "        \n",
    "        self.withdraw_amount = int(input(\"Enter the withdrawl amount : \"))\n",
    "        \n",
    "        if self.withdraw_amount > self.balance :\n",
    "            print(\"You don't have enough bank balance.\")\n",
    "            \n",
    "        else:\n",
    "            self.balance = self.balance - self.withdraw_amount\n",
    "            \n",
    "            # display the updated balance\n",
    "            print(\"Current balance of account : \",self.balance)\n",
    "    "
   ]
  },
  {
   "cell_type": "code",
   "execution_count": 23,
   "id": "dc18120a",
   "metadata": {},
   "outputs": [],
   "source": [
    "# lets create an object \n",
    "noorain = Bank_Account()\n",
    "\n",
    "# enter your account details\n",
    "noorain.account_number = 12345\n",
    "noorain.account_holder_name = \"Noorain Raza\"\n",
    "noorain.balance = 50000"
   ]
  },
  {
   "cell_type": "code",
   "execution_count": 24,
   "id": "9ad6f700",
   "metadata": {},
   "outputs": [
    {
     "name": "stdout",
     "output_type": "stream",
     "text": [
      "Enter the deposit amount :5000\n",
      "Current balance of account :  55000\n"
     ]
    }
   ],
   "source": [
    "# lets deposit some amount of money\n",
    "noorain.deposit_money()"
   ]
  },
  {
   "cell_type": "code",
   "execution_count": 25,
   "id": "40e20640",
   "metadata": {},
   "outputs": [
    {
     "name": "stdout",
     "output_type": "stream",
     "text": [
      "Enter the withdrawl amount : 10000\n",
      "Current balance of account :  45000\n"
     ]
    }
   ],
   "source": [
    "# lets withdraw some aount of money\n",
    "noorain.withdraw_money()"
   ]
  },
  {
   "cell_type": "markdown",
   "id": "280a428a",
   "metadata": {},
   "source": [
    "### Ques 2 : Employee Management Create a class representing an employee with attributes like employee ID, name, and salary. Implement methods to calculate the yearly bonus and display employee details."
   ]
  },
  {
   "cell_type": "markdown",
   "id": "414bec8e",
   "metadata": {},
   "source": [
    "#### Ans 2) \n",
    "\n",
    "#### Steps:\n",
    "\n",
    "- Create a class employee.\n",
    "- Initialize 3 attributes mentioned in question.\n",
    "- Now define two methods : \n",
    "\n",
    "- 1) yearly_bonus : to calculate the yearly bonus of employee based on years.\n",
    "- - Lets consider the criteria for yearly bonus based on years :\n",
    "- - if employee has served the organization for more than 3 years, give a bonus of 3000Rs to the employee.\n",
    "- - Take the current and joining year, find the diff, and give the bonus accordingly.\n",
    "\n",
    "- 2) employee_details : to display the details of employee.\n",
    "- - Print all the details of the employee."
   ]
  },
  {
   "cell_type": "code",
   "execution_count": 31,
   "id": "691f33e1",
   "metadata": {},
   "outputs": [],
   "source": [
    "class employee :\n",
    "    \n",
    "    # initialise attributes\n",
    "    def __init__(self,empId,empName,empSalary):\n",
    "        self.employee_id = empId\n",
    "        self.employee_name = empName\n",
    "        self.employee_salary = empSalary\n",
    "        \n",
    "    # define a method for yearly bonus\n",
    "    def yearl_bonus(self, currYr, joiningYr):\n",
    "        self.current_year = currYr\n",
    "        self.year_of_joining = joiningYr\n",
    "        \n",
    "        self.bonus = 3000\n",
    "        if (self.current_year - self.year_of_joining) > 3 :\n",
    "            print(\"Your bonus of the year is : Rs.\",self.bonus )\n",
    "            \n",
    "            # update the salary\n",
    "            self.employee_salary = self.employee_salary + self.bonus\n",
    "        \n",
    "    \n",
    "    # define a method for employee details\n",
    "    def employee_details(self):\n",
    "        print(\"Following are the Employee details : \\n\")\n",
    "        print(f\"Employee Id : {self.employee_id},\\nEmployee Name : {self.employee_name},\\nEmployee Year Bonus : {self.bonus},\\nEmployee Salary : {self.employee_salary}\")"
   ]
  },
  {
   "cell_type": "code",
   "execution_count": 32,
   "id": "db9abdf7",
   "metadata": {},
   "outputs": [],
   "source": [
    "# create an object for employee and pass values\n",
    "emp1 = employee(123,\"Noorain\",50000)"
   ]
  },
  {
   "cell_type": "code",
   "execution_count": 33,
   "id": "1307ee31",
   "metadata": {},
   "outputs": [
    {
     "name": "stdout",
     "output_type": "stream",
     "text": [
      "Your bonus of the year is : Rs. 3000\n"
     ]
    }
   ],
   "source": [
    "# find the yearly bonus by entering the years\n",
    "emp1.yearl_bonus(2024,2020)"
   ]
  },
  {
   "cell_type": "code",
   "execution_count": 34,
   "id": "dcb6e18b",
   "metadata": {},
   "outputs": [
    {
     "name": "stdout",
     "output_type": "stream",
     "text": [
      "Following are the Employee details : \n",
      "\n",
      "Employee Id : 123,\n",
      "Employee Name : Noorain,\n",
      "Employee Year Bonus : 3000,\n",
      "Employee Salary : 53000\n"
     ]
    }
   ],
   "source": [
    "# lets check the employee details\n",
    "emp1.employee_details()"
   ]
  },
  {
   "cell_type": "code",
   "execution_count": null,
   "id": "4b61f18e",
   "metadata": {},
   "outputs": [],
   "source": []
  },
  {
   "cell_type": "markdown",
   "id": "fb2b2166",
   "metadata": {},
   "source": [
    "### Ques 3 : Vehicle Rental Create a class representing a vehicle rental system. Implement methods to rent a vehicle, return a vehicle, and display available vehicles. "
   ]
  },
  {
   "cell_type": "markdown",
   "id": "e28d91d3",
   "metadata": {},
   "source": [
    "#### Ans 3) \n",
    "\n",
    "#### Steps:\n",
    "\n",
    "- Create a class vehicle_rental.\n",
    "- Initialize a list of available vehicles\n",
    "- Now define three methods : \n",
    "\n",
    "- 1) available_vehicles : to display the list of available vehicles.\n",
    "\n",
    "- 2) rent_vehicles : to select a vehicle from available list of vehicles.\n",
    "- - Display the list of vehicles with order number.\n",
    "- - Take a number respected to the vehicle from user.\n",
    "\n",
    "- 3) return_vehicles : to return the selected vehicle.\n",
    "- - Dispaly the selected vehicle.\n",
    "- - Update the available list of vehicles."
   ]
  },
  {
   "cell_type": "code",
   "execution_count": 64,
   "id": "882f96f7",
   "metadata": {},
   "outputs": [],
   "source": [
    "class vehicle_Rental :\n",
    "    \n",
    "    vehicle_list = ['Apache','Passion Pro','ZMR','R15','Splender']\n",
    "    \n",
    "    # define a method to display available vehicles\n",
    "    def available_vehicles(self):\n",
    "        print(f\"Following is the list of available vehicles : \\n{self.vehicle_list}\")\n",
    "    \n",
    "    \n",
    "    # define a method to rent a vehicle\n",
    "    def rent_vehicle(self):\n",
    "        print(f\"Following is the list of available vehicles, to select a vehicle enter the respected number :\")\n",
    "        for number, vehicle in enumerate(self.vehicle_list,1):\n",
    "            print(f\"{number}) : {vehicle}\")\n",
    "            \n",
    "        self.vehicle_num = int(input(\"Enter a number to choose the vehicle : \"))\n",
    "        \n",
    "    \n",
    "    \n",
    "    # define a method to return a vehicle\n",
    "    def return_vehicle(self):\n",
    "        print(\"You choosed the vehicle : \",self.vehicle_list[self.vehicle_num-1])\n",
    "        # update the list of vehicles\n",
    "        self.vehicle_list.pop(self.vehicle_num-1)\n",
    "    "
   ]
  },
  {
   "cell_type": "code",
   "execution_count": 65,
   "id": "54ae4814",
   "metadata": {},
   "outputs": [],
   "source": [
    "vehicle1 = vehicle_Rental()"
   ]
  },
  {
   "cell_type": "code",
   "execution_count": 66,
   "id": "8e0002b2",
   "metadata": {},
   "outputs": [
    {
     "name": "stdout",
     "output_type": "stream",
     "text": [
      "Following is the list of available vehicles : \n",
      "['Apache', 'Passion Pro', 'ZMR', 'R15', 'Splender']\n"
     ]
    }
   ],
   "source": [
    "# lets see the available vehicles\n",
    "vehicle1.available_vehicles()"
   ]
  },
  {
   "cell_type": "code",
   "execution_count": 67,
   "id": "05d418ec",
   "metadata": {},
   "outputs": [
    {
     "name": "stdout",
     "output_type": "stream",
     "text": [
      "Following is the list of available vehicles, to select a vehicle enter the respected number :\n",
      "1) : Apache\n",
      "2) : Passion Pro\n",
      "3) : ZMR\n",
      "4) : R15\n",
      "5) : Splender\n",
      "Enter a number to choose the vehicle : 4\n"
     ]
    }
   ],
   "source": [
    "# lets call the rent_vehicle method to take vehicle on rent\n",
    "vehicle1.rent_vehicle()"
   ]
  },
  {
   "cell_type": "code",
   "execution_count": 68,
   "id": "f79bc86b",
   "metadata": {},
   "outputs": [
    {
     "name": "stdout",
     "output_type": "stream",
     "text": [
      "You choosed the vehicle :  R15\n"
     ]
    }
   ],
   "source": [
    "# call the return vehicle method to get the vehicle\n",
    "vehicle1.return_vehicle()"
   ]
  },
  {
   "cell_type": "code",
   "execution_count": 69,
   "id": "f600df9c",
   "metadata": {},
   "outputs": [
    {
     "name": "stdout",
     "output_type": "stream",
     "text": [
      "Following is the list of available vehicles : \n",
      "['Apache', 'Passion Pro', 'ZMR', 'Splender']\n"
     ]
    }
   ],
   "source": [
    "# now lets see the updated available vehicles list\n",
    "vehicle1.available_vehicles()"
   ]
  },
  {
   "cell_type": "markdown",
   "id": "e79df2b4",
   "metadata": {},
   "source": [
    "### Ques 4 : Library Catalog Create classes representing a library and a book. Implement methods to add books to the library, borrow books, and display available books."
   ]
  },
  {
   "cell_type": "markdown",
   "id": "78ed0a1a",
   "metadata": {},
   "source": [
    "#### Ans 4) \n",
    "\n",
    "#### Steps:\n",
    "\n",
    "- Create two classes library and book.\n",
    "- Derive the class library by book.\n",
    "- Create a list of books.\n",
    "- Now define three methods inside library class: \n",
    "\n",
    "- 1) add_book : to add a book to the list books.\n",
    "\n",
    "- 2) borrow_book : to borrow a book from list of books.\n",
    "- - Take a book name from the user to borrow a book from the library.\n",
    "\n",
    "- 3) display_book : to display the available books.\n"
   ]
  },
  {
   "cell_type": "code",
   "execution_count": 55,
   "id": "63feb18d",
   "metadata": {},
   "outputs": [],
   "source": [
    "class library:\n",
    "    \n",
    "    # create a list of books available in library\n",
    "    book_list = ['data science','machine learning','deep learning','computer vision','NLP']\n",
    "    \n",
    "    ## define a method to add a book to the library\n",
    "    def add_book(self, bookName):\n",
    "        self.book_name = bookName\n",
    "        # add a book to booklist\n",
    "        self.book_list.append(self.book_name)\n",
    "        print(\"\\nUpdated List of books : \",self.book_list)\n",
    "        \n",
    "        \n",
    "    ## define a method to borrow a book from the library\n",
    "    def borrow_book(self):\n",
    "        self.borrowbook = input(\"Enter a book name to borrow from library:\")\n",
    "        print(\"You selected the book\" + \" \" + self.borrowbook + \" \" + \"from library.\")\n",
    "        \n",
    "        # update the list of book\n",
    "        self.book_list.remove(self.borrowbook)\n",
    "        \n",
    "        \n",
    "    ## define a method to display available books\n",
    "    def display_book(self):\n",
    "        print(\"\\nFollowing books are available in library : \")\n",
    "        print(self.book_list)\n",
    "    \n",
    "    \n",
    "class book(library):\n",
    "    pass"
   ]
  },
  {
   "cell_type": "code",
   "execution_count": 56,
   "id": "64188fa7",
   "metadata": {},
   "outputs": [],
   "source": [
    "# create an object\n",
    "lib1 = book()"
   ]
  },
  {
   "cell_type": "code",
   "execution_count": 57,
   "id": "cc313438",
   "metadata": {},
   "outputs": [
    {
     "name": "stdout",
     "output_type": "stream",
     "text": [
      "\n",
      "Following books are available in library : \n",
      "['data science', 'machine learning', 'deep learning', 'computer vision', 'NLP']\n"
     ]
    }
   ],
   "source": [
    "# display the available books\n",
    "lib1.display_book()"
   ]
  },
  {
   "cell_type": "code",
   "execution_count": 58,
   "id": "8ed63703",
   "metadata": {},
   "outputs": [
    {
     "name": "stdout",
     "output_type": "stream",
     "text": [
      "\n",
      "Updated List of books :  ['data science', 'machine learning', 'deep learning', 'computer vision', 'NLP', 'statistics']\n"
     ]
    }
   ],
   "source": [
    "# lets add a book to the library\n",
    "lib1.add_book('statistics')"
   ]
  },
  {
   "cell_type": "code",
   "execution_count": 59,
   "id": "2e73c951",
   "metadata": {},
   "outputs": [
    {
     "name": "stdout",
     "output_type": "stream",
     "text": [
      "Enter a book name to borrow from library:NLP\n",
      "You selected the book NLP from library.\n"
     ]
    }
   ],
   "source": [
    "# borrow a book from library\n",
    "lib1.borrow_book()"
   ]
  },
  {
   "cell_type": "code",
   "execution_count": 60,
   "id": "423fd768",
   "metadata": {},
   "outputs": [
    {
     "name": "stdout",
     "output_type": "stream",
     "text": [
      "\n",
      "Following books are available in library : \n",
      "['data science', 'machine learning', 'deep learning', 'computer vision', 'statistics']\n"
     ]
    }
   ],
   "source": [
    "# lets see the updated list of books\n",
    "lib1.display_book()"
   ]
  },
  {
   "cell_type": "markdown",
   "id": "af167253",
   "metadata": {},
   "source": [
    "### Ques 5 : Product Inventory Create classes representing a product and an inventory system. Implement methods to add products to the inventory, update product quantity, and display available products."
   ]
  },
  {
   "cell_type": "markdown",
   "id": "abc8f407",
   "metadata": {},
   "source": [
    "#### Ans 5) \n",
    "\n",
    "#### Steps:\n",
    "\n",
    "- Create two classes product_invtory_system and product.\n",
    "- Initialize a product list.\n",
    "- Now define three methods : \n",
    "\n",
    "- 1) add_product : to add a product into product list.\n",
    "- - Take a product name from the user and append it into the list of product.\n",
    "- 2) update_product_qnty : to update the quantity of the availab the perimeter of the shape.\n",
    "- 3) available_products : "
   ]
  },
  {
   "cell_type": "code",
   "execution_count": 61,
   "id": "a85797b5",
   "metadata": {},
   "outputs": [],
   "source": [
    "class product_invtory_system :\n",
    "    \n",
    "    product_list = ['phone','laptop','tv','tablet','washing machine']\n",
    "    \n",
    "    \n",
    "    def add_product(self,productName):\n",
    "        self.product_name = productName\n",
    "        \n",
    "        self.product_list.append(self.product_name)\n",
    "        print(\"\\nUpdated product list : \",self.product_list)\n",
    "        \n",
    "    \n",
    "    def update_product_qnty(self):\n",
    "        unique_prodcuts = set(self.product_list)\n",
    "        self.product_qnty = {product : self.product_list.count(product)  for product in unique_prodcuts}\n",
    "        \n",
    "        print(\"Following is the Quantity of each product : \\n\",self.product_qnty)\n",
    "    \n",
    "    \n",
    "    def available_products(self):\n",
    "        print(\"\\nFollowing is the list of available products : \\n\",self.product_list)\n",
    "        \n",
    "\n",
    "class product(product_invtory_system):\n",
    "    pass"
   ]
  },
  {
   "cell_type": "code",
   "execution_count": 62,
   "id": "59157761",
   "metadata": {},
   "outputs": [],
   "source": [
    "# create object\n",
    "pro1 = product()"
   ]
  },
  {
   "cell_type": "code",
   "execution_count": 63,
   "id": "62bdee8c",
   "metadata": {},
   "outputs": [
    {
     "name": "stdout",
     "output_type": "stream",
     "text": [
      "\n",
      "Following is the list of available products : \n",
      " ['phone', 'laptop', 'tv', 'tablet', 'washing machine']\n"
     ]
    }
   ],
   "source": [
    "# look at the available products\n",
    "pro1.available_products()"
   ]
  },
  {
   "cell_type": "code",
   "execution_count": 64,
   "id": "edbe6987",
   "metadata": {},
   "outputs": [
    {
     "name": "stdout",
     "output_type": "stream",
     "text": [
      "\n",
      "Updated product list :  ['phone', 'laptop', 'tv', 'tablet', 'washing machine', 'tv']\n"
     ]
    }
   ],
   "source": [
    "# lets add an existing product\n",
    "pro1.add_product('tv')"
   ]
  },
  {
   "cell_type": "code",
   "execution_count": 65,
   "id": "75775f1e",
   "metadata": {},
   "outputs": [
    {
     "name": "stdout",
     "output_type": "stream",
     "text": [
      "Following is the Quantity of each product : \n",
      " {'laptop': 1, 'tv': 2, 'tablet': 1, 'washing machine': 1, 'phone': 1}\n"
     ]
    }
   ],
   "source": [
    "# lets see the product quantity\n",
    "pro1.update_product_qnty()"
   ]
  },
  {
   "cell_type": "markdown",
   "id": "87229d61",
   "metadata": {},
   "source": [
    "### Ques 6 : Shape Calculation Create a class representing a shape with attributes like length, width, and height. Implement methods to calculate the area and perimeter of the shape."
   ]
  },
  {
   "cell_type": "markdown",
   "id": "5d2428f1",
   "metadata": {},
   "source": [
    "#### Ans 6) \n",
    "\n",
    "#### Steps:\n",
    "\n",
    "- Create a class shape.\n",
    "- Initialize attributes of shape using __init__() function.\n",
    "- Now define two methods : \n",
    "\n",
    "- 1) area : to calculate the area of the shape.\n",
    "- - First of all identify the shape.\n",
    "- - If all sides are equal then shape is cube.\n",
    "- - If side are different then shape is cuboid.\n",
    "- 2) perimeter : to calculate the perimeter of the shape.\n"
   ]
  },
  {
   "cell_type": "code",
   "execution_count": 70,
   "id": "1e11269c",
   "metadata": {},
   "outputs": [],
   "source": [
    "class shape:\n",
    "    \n",
    "    def __init__(self, length , width, height):\n",
    "        self.length = length\n",
    "        self.width = width\n",
    "        self.height = height\n",
    "        \n",
    "    def area(self):\n",
    "        if self.length == self.width == self.height :\n",
    "            self.area = self.length**3\n",
    "            self.shape = 'cube'\n",
    "            print(\"Volume of the shape is : \",self.area)\n",
    "            \n",
    "        elif self.length == self.width :\n",
    "            self.area = (self.length * self.width * self.height)\n",
    "            self.shape = 'cuboid'\n",
    "            print(\"Volume of the shape is : \",self.area)\n",
    "            \n",
    "        else:\n",
    "            print(\"Enter valid length,width and height.\")\n",
    "        \n",
    "    \n",
    "    def perimeter(self):\n",
    "        if self.shape == 'cube':\n",
    "            self.perimeter = 12*self.length\n",
    "            print(\"Perimeter of the shape is : \",self.perimeter)\n",
    "\n",
    "        \n",
    "        "
   ]
  },
  {
   "cell_type": "code",
   "execution_count": 71,
   "id": "dc9055cf",
   "metadata": {},
   "outputs": [
    {
     "name": "stdout",
     "output_type": "stream",
     "text": [
      "Volume of the shape is :  125\n",
      "Perimeter of the shape is :  60\n"
     ]
    }
   ],
   "source": [
    "cube = shape(5,5,5)\n",
    "cube.area()\n",
    "cube.perimeter()"
   ]
  },
  {
   "cell_type": "markdown",
   "id": "80713abc",
   "metadata": {},
   "source": [
    "### Ques 7 : Student Management Create a class representing a student with attributes like student ID, name, and grades. Implement methods to calculate the average grade and display student details."
   ]
  },
  {
   "cell_type": "markdown",
   "id": "706ed01e",
   "metadata": {},
   "source": [
    "#### Ans 7) \n",
    "\n",
    "#### Steps:\n",
    "\n",
    "- Create a class student.\n",
    "- Initialize attributes of student using __init__() function.\n",
    "- Now define two methods : \n",
    "\n",
    "- 1) avg_grades : to calculate the avg of the grades.\n",
    "- 2) student_details : to Display the student details.\n"
   ]
  },
  {
   "cell_type": "code",
   "execution_count": 75,
   "id": "3fcacc4c",
   "metadata": {},
   "outputs": [],
   "source": [
    "class student :\n",
    "    \n",
    "    def __init__(self, studId, stuName, stuGrades):\n",
    "        self.student_id = studId\n",
    "        self.student_name = stuName\n",
    "        self.student_grades = stuGrades\n",
    "        \n",
    "        \n",
    "    def avg_grades(self):\n",
    "        self.avg = sum(self.student_grades)/len(self.student_grades)\n",
    "        print(\"Student Average grades : \",self.avg)\n",
    "        \n",
    "    def student_details(self):\n",
    "        print(\"\\nFollowing are the student details : \")\n",
    "        print(f\"Student ID : {self.student_id}\\nStudent Name : {self.student_name}\\nStudent Grades : {self.student_grades}\")\n",
    "        "
   ]
  },
  {
   "cell_type": "code",
   "execution_count": 76,
   "id": "64f02194",
   "metadata": {},
   "outputs": [
    {
     "name": "stdout",
     "output_type": "stream",
     "text": [
      "Student Average grades :  85.0\n",
      "\n",
      "Following are the student details : \n",
      "Student ID : 12\n",
      "Student Name : Rohan\n",
      "Student Grades : [80, 85, 90]\n"
     ]
    }
   ],
   "source": [
    "# create an object for class and pass the student details.\n",
    "student1 = student(12, \"Rohan\", [80,85,90])\n",
    "\n",
    "# calculate the avg grades\n",
    "student1.avg_grades()\n",
    "\n",
    "# Display the student details\n",
    "student1.student_details()"
   ]
  },
  {
   "cell_type": "markdown",
   "id": "d59d41a4",
   "metadata": {},
   "source": [
    "### Ques 8 : Email Management Create a class representing an email with attributes like sender, recipient, and subject. Implement methods to send an email and display email details."
   ]
  },
  {
   "cell_type": "markdown",
   "id": "9e37d700",
   "metadata": {},
   "source": [
    "#### Ans 8) \n",
    "\n",
    "#### Steps:\n",
    "\n",
    "- Create a class email.\n",
    "- Initialize attributes of email using __init__() function.\n",
    "- Now define two methods : \n",
    "\n",
    "- 1) send_email : to send the email.\n",
    "- 2) email_details : to Display the email details.\n"
   ]
  },
  {
   "cell_type": "code",
   "execution_count": 3,
   "id": "21d18a0d",
   "metadata": {},
   "outputs": [],
   "source": [
    "class email :\n",
    "    \n",
    "    def __init__(self, sender, recipient , subject):\n",
    "        self.sender = sender\n",
    "        self.recipient = recipient\n",
    "        self.subject = subject\n",
    "        \n",
    "    def send_email(self):\n",
    "        print(f\"\\nSending mail to : {self.recipient}\\nFrom : {self.sender}\\nSubject : {self.subject}\")\n",
    "        print(\"\\nEmail is sent.\")\n",
    "    \n",
    "    def email_details(self):\n",
    "        print(\"Following are the details of email : \")\n",
    "        print(f\"Sender : {self.sender}, \\nRecipient : {self.recipient}, \\nSubject : {self.subject}\")"
   ]
  },
  {
   "cell_type": "code",
   "execution_count": 4,
   "id": "ab6531a3",
   "metadata": {},
   "outputs": [
    {
     "name": "stdout",
     "output_type": "stream",
     "text": [
      "Following are the details of email : \n",
      "Sender : abc@gamil.com, \n",
      "Recipient : xyz@gmail.com, \n",
      "Subject : Kuch kaam hai:\n",
      "\n",
      "Sending mail to : xyz@gmail.com\n",
      "From : abc@gamil.com\n",
      "Subject : Kuch kaam hai:\n",
      "\n",
      "Email is sent.\n"
     ]
    }
   ],
   "source": [
    "emailobj = email('abc@gamil.com', 'xyz@gmail.com', 'Kuch kaam hai:')\n",
    "emailobj.email_details()\n",
    "emailobj.send_email()"
   ]
  },
  {
   "cell_type": "markdown",
   "id": "0e9a4d7c",
   "metadata": {},
   "source": [
    "### Ques 9 : Social Media Profile Create a class representing a social media profile with attributes like username and posts. Implement methods to add posts, display posts, and search for posts by keyword."
   ]
  },
  {
   "cell_type": "markdown",
   "id": "e8f7aa27",
   "metadata": {},
   "source": [
    "#### Ans 9) \n",
    "\n",
    "#### Steps:\n",
    "\n",
    "- Create a class social_media_profile.\n",
    "- Initialize attributes of social_media_profile using __init__() function.\n",
    "- Now define three methods : \n",
    "\n",
    "- 1) add_post : to add a post into posts list.\n",
    "- - Take a post keyword, append into list of posts, show the updates posts list.\n",
    "- 2) display_posts : to Display the post.\n",
    "- 3) search_post_bykeyword : \n",
    "- - Take a keyword from user.\n",
    "- - Search keyword in list of posts."
   ]
  },
  {
   "cell_type": "code",
   "execution_count": 7,
   "id": "0f8fdce8",
   "metadata": {},
   "outputs": [],
   "source": [
    "class social_media_profile :\n",
    "    \n",
    "    def __init__(self, username , posts):\n",
    "        self.username = username\n",
    "        self.posts = posts\n",
    "        \n",
    "    \n",
    "    # define a method to add posts\n",
    "    def add_post(self,postKeyword):\n",
    "        self.post_keyword = postKeyword\n",
    "        \n",
    "        self.posts.append(self.post_keyword)\n",
    "        print(\"\\nUpdated list of posts : \",self.posts)\n",
    "    \n",
    "    # define a method  to display posts\n",
    "    def display_posts(self):\n",
    "        print(\"Following are the posts:\")\n",
    "        for num , post in enumerate(self.posts, 1):\n",
    "            print(f\"{num}) : {post}\")\n",
    "    \n",
    "    # define a method to search for posts by keyword\n",
    "    def search_post_bykeyword(self, searchKeyword):\n",
    "        self.search_keyword = searchKeyword\n",
    "        \n",
    "        if self.search_keyword in self.posts:\n",
    "            print(\"\\nSearched keyword exists in your post list. \")\n",
    "            \n",
    "        else:\n",
    "            print(\"\\nSearched keyword doest not exist in your post list. \")\n",
    "            \n",
    "        "
   ]
  },
  {
   "cell_type": "code",
   "execution_count": 9,
   "id": "39599291",
   "metadata": {},
   "outputs": [
    {
     "name": "stdout",
     "output_type": "stream",
     "text": [
      "Following are the posts:\n",
      "1) : night shoot\n",
      "2) : summer\n",
      "3) : spring\n",
      "4) : modeling\n",
      "5) : holidays\n",
      "\n",
      "Updated list of posts :  ['night shoot', 'summer', 'spring', 'modeling', 'holidays', 'friends']\n",
      "\n",
      "Searched keyword exists in your post list. \n"
     ]
    }
   ],
   "source": [
    "# create an object for the class and pass the value of attributes.\n",
    "profile1 = social_media_profile('Zaid',['night shoot','summer','spring','modeling','holidays'])\n",
    "\n",
    "# call the method to display the details\n",
    "profile1.display_posts()\n",
    "\n",
    "# call the method to add the post\n",
    "profile1.add_post('friends')\n",
    "\n",
    "# call the method to seach a post by keyword\n",
    "profile1.search_post_bykeyword('summer')\n"
   ]
  },
  {
   "cell_type": "markdown",
   "id": "bfaa0f7b",
   "metadata": {},
   "source": [
    "### Ques 10 : ToDo List Create a class representing a ToDo list with attributes like tasks and due dates. Implement methods to add tasks, mark tasks as completed, and display pending tasks."
   ]
  },
  {
   "cell_type": "markdown",
   "id": "cb0a2d86",
   "metadata": {},
   "source": [
    "#### Ans 10) \n",
    "\n",
    "#### Steps:\n",
    "\n",
    "- Create a class todo_list.\n",
    "- Initialize attributes of todolist.\n",
    "- Create a dictionary to mark all task as pending initialy.\n",
    "- Now define three methods : \n",
    "\n",
    "- 1) add_task : to add a task into todo list.\n",
    "- - Take an input as a task from user, append into list, show the updates todo list.\n",
    "- 2) mark_task_completed : to mark the given task as completed.\n",
    "- 3) pending_task : to display the list of all pending task\n",
    "- - Filter out all the task from the dictionary where value as pending.\n"
   ]
  },
  {
   "cell_type": "code",
   "execution_count": 39,
   "id": "9b9aeccc",
   "metadata": {},
   "outputs": [],
   "source": [
    "class todo_list :\n",
    "    \n",
    "    # creating task list\n",
    "    task_list = ['python','sql','ml','dl','cv','nlp']\n",
    "    # due dates/month\n",
    "    due_dates = ['jan','feb','march','april','may','june']\n",
    "    # creating a dictionary with all pending task\n",
    "    task_dict = {task:'Pending' for task in task_list}\n",
    "        \n",
    "    \n",
    "    # define a method to add tasks\n",
    "    def add_task(self, task):\n",
    "        self.task = task\n",
    "        self.task_list.append(self.task)\n",
    "        print(\"\\nUpdated list of tasks: \",self.task_list)\n",
    "    \n",
    "    # define a method to mark tasks as completed\n",
    "    def mark_task_completed(self):\n",
    "        \n",
    "        print(\"Following is Your ToDo list : \\n\",self.task_dict)\n",
    "        self.mark_task = input(\"Enter the task to mark it as 'Completed':\")\n",
    "        self.task_dict[self.mark_task] = 'Completed'\n",
    "        \n",
    "        print(\"\\nTask is marked as completed :\\n\",self.task_dict)\n",
    "            \n",
    "        \n",
    "    # define a method to display pending task\n",
    "    def pending_task(self):\n",
    "        print(\"\\nFollowing is the list of pending tasks:\")\n",
    "        \n",
    "        print(list(filter(lambda task:self.task_dict[task]=='Pending' ,self.task_dict)))\n",
    "        "
   ]
  },
  {
   "cell_type": "code",
   "execution_count": 40,
   "id": "7526646c",
   "metadata": {},
   "outputs": [],
   "source": [
    "obj1 = todo_list()"
   ]
  },
  {
   "cell_type": "code",
   "execution_count": 41,
   "id": "d6363517",
   "metadata": {},
   "outputs": [
    {
     "data": {
      "text/plain": [
       "{'python': 'Pending',\n",
       " 'sql': 'Pending',\n",
       " 'ml': 'Pending',\n",
       " 'dl': 'Pending',\n",
       " 'cv': 'Pending',\n",
       " 'nlp': 'Pending'}"
      ]
     },
     "execution_count": 41,
     "metadata": {},
     "output_type": "execute_result"
    }
   ],
   "source": [
    "obj1.task_dict"
   ]
  },
  {
   "cell_type": "code",
   "execution_count": 42,
   "id": "c5cd40fa",
   "metadata": {},
   "outputs": [
    {
     "name": "stdout",
     "output_type": "stream",
     "text": [
      "\n",
      "Updated list of tasks:  ['python', 'sql', 'ml', 'dl', 'cv', 'nlp', 'cloud']\n"
     ]
    }
   ],
   "source": [
    "# lets add a task to todo list\n",
    "obj1.add_task('cloud')"
   ]
  },
  {
   "cell_type": "code",
   "execution_count": 43,
   "id": "90b4d1d9",
   "metadata": {},
   "outputs": [
    {
     "name": "stdout",
     "output_type": "stream",
     "text": [
      "Following is Your ToDo list : \n",
      " {'python': 'Pending', 'sql': 'Pending', 'ml': 'Pending', 'dl': 'Pending', 'cv': 'Pending', 'nlp': 'Pending'}\n",
      "Enter the task to mark it as 'Completed':python\n",
      "\n",
      "Task is marked as completed :\n",
      " {'python': 'Completed', 'sql': 'Pending', 'ml': 'Pending', 'dl': 'Pending', 'cv': 'Pending', 'nlp': 'Pending'}\n"
     ]
    }
   ],
   "source": [
    "# lets mark a task as completed\n",
    "obj1.mark_task_completed()"
   ]
  },
  {
   "cell_type": "code",
   "execution_count": 44,
   "id": "24da8669",
   "metadata": {},
   "outputs": [
    {
     "name": "stdout",
     "output_type": "stream",
     "text": [
      "\n",
      "Following is the list of pending tasks:\n",
      "['sql', 'ml', 'dl', 'cv', 'nlp']\n"
     ]
    }
   ],
   "source": [
    "# lets see the list of pending task\n",
    "obj1.pending_task()"
   ]
  }
 ],
 "metadata": {
  "kernelspec": {
   "display_name": "Python 3 (ipykernel)",
   "language": "python",
   "name": "python3"
  },
  "language_info": {
   "codemirror_mode": {
    "name": "ipython",
    "version": 3
   },
   "file_extension": ".py",
   "mimetype": "text/x-python",
   "name": "python",
   "nbconvert_exporter": "python",
   "pygments_lexer": "ipython3",
   "version": "3.9.12"
  }
 },
 "nbformat": 4,
 "nbformat_minor": 5
}
